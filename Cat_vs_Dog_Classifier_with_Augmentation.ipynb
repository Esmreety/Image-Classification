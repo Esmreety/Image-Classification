{
  "nbformat": 4,
  "nbformat_minor": 0,
  "metadata": {
    "colab": {
      "name": " Cat vs Dog Classifier with Augmentation 2.ipynb",
      "provenance": [],
      "collapsed_sections": [],
      "mount_file_id": "1C3Kqx5sDeb_rkWNzD2dVQdbXnk3QEF3_",
      "authorship_tag": "ABX9TyP8GNB3jSlH6eCJnRVzOUA8",
      "include_colab_link": true
    },
    "kernelspec": {
      "name": "python3",
      "display_name": "Python 3"
    },
    "accelerator": "GPU"
  },
  "cells": [
    {
      "cell_type": "markdown",
      "metadata": {
        "id": "view-in-github",
        "colab_type": "text"
      },
      "source": [
        "<a href=\"https://colab.research.google.com/github/Esmreety/Image-Classification/blob/master/Cat_vs_Dog_Classifier_with_Augmentation.ipynb\" target=\"_parent\"><img src=\"https://colab.research.google.com/assets/colab-badge.svg\" alt=\"Open In Colab\"/></a>"
      ]
    },
    {
      "cell_type": "code",
      "metadata": {
        "id": "lVW6vbIqRUa1",
        "colab_type": "code",
        "colab": {}
      },
      "source": [
        "import tensorflow as tf\n",
        "from tensorflow import keras\n",
        "from keras.preprocessing.image import ImageDataGenerator\n",
        "from keras.models import Sequential\n",
        "from keras.layers import Conv2D, MaxPooling2D, Flatten, Dense, Dropout\n",
        "from keras import backend as k\n",
        "import numpy as np\n",
        "from keras.preprocessing import image\n",
        "from keras.optimizers import RMSprop"
      ],
      "execution_count": null,
      "outputs": []
    },
    {
      "cell_type": "code",
      "metadata": {
        "id": "JuoobnDKTBqq",
        "colab_type": "code",
        "colab": {}
      },
      "source": [
        "img_width, img_height = 150, 150\n",
        "train_data_dir = '/content/cats_and_dogs_filtered/train'\n",
        "validation_data_dir = '/content/cats_and_dogs_filtered/validation'\n",
        "batch_size = 20\n"
      ],
      "execution_count": null,
      "outputs": []
    },
    {
      "cell_type": "code",
      "metadata": {
        "id": "JDYRwYCJUR1y",
        "colab_type": "code",
        "colab": {}
      },
      "source": [
        "train_datagen = ImageDataGenerator(\n",
        "                     rescale = 1./255,\n",
        "                     rotation_range = 40, \n",
        "                     width_shift_range = 0.2,\n",
        "                     height_shift_range = 0.2,\n",
        "                     shear_range = 0.2,\n",
        "                     zoom_range = 0.2,\n",
        "                     horizontal_flip = True,\n",
        "                     fill_mode = 'nearest')\n",
        "              \n",
        "test_datagen = ImageDataGenerator(rescale = 1./255)\n"
      ],
      "execution_count": null,
      "outputs": []
    },
    {
      "cell_type": "code",
      "metadata": {
        "id": "WF-g0gtYVIM8",
        "colab_type": "code",
        "colab": {
          "base_uri": "https://localhost:8080/",
          "height": 52
        },
        "outputId": "a4dc0214-53b7-4ba1-c935-93ef2ea9fe90"
      },
      "source": [
        "train_generator = train_datagen.flow_from_directory(\n",
        "                              train_data_dir,\n",
        "                              target_size = (img_width, img_height),\n",
        "                              batch_size = batch_size,\n",
        "                                class_mode = 'binary')\n",
        "validation_generator = test_datagen.flow_from_directory(\n",
        "                                validation_data_dir,\n",
        "                                target_size = (img_width, img_height),\n",
        "                                batch_size = batch_size,\n",
        "                                class_mode = 'binary')\n",
        "                                                              \n"
      ],
      "execution_count": null,
      "outputs": [
        {
          "output_type": "stream",
          "text": [
            "Found 2000 images belonging to 2 classes.\n",
            "Found 1000 images belonging to 2 classes.\n"
          ],
          "name": "stdout"
        }
      ]
    },
    {
      "cell_type": "code",
      "metadata": {
        "id": "8F6n0LM5WGbw",
        "colab_type": "code",
        "colab": {
          "base_uri": "https://localhost:8080/",
          "height": 573
        },
        "outputId": "148dfd17-aace-4ba2-867a-fb8e68a3cbcb"
      },
      "source": [
        "model = Sequential()\n",
        "input_shape = (img_width, img_height, 3)\n",
        "model.add(Conv2D(32, (3,3), activation = 'relu', input_shape = input_shape))\n",
        "model.add(MaxPooling2D(pool_size = (2,2)))\n",
        "model.add(Conv2D(64, (3,3), activation = 'relu', input_shape = input_shape))\n",
        "model.add(MaxPooling2D(pool_size = (2,2)))\n",
        "model.add(Conv2D(128, (3,3), activation = 'relu', input_shape = input_shape))\n",
        "model.add(MaxPooling2D(pool_size = (2,2)))\n",
        "model.add(Conv2D(128, (3,3), activation = 'relu', input_shape = input_shape))\n",
        "model.add(MaxPooling2D(pool_size = (2,2)))\n",
        "model.add(Dropout(0.5)),\n",
        "model.add(Flatten())\n",
        "model.add(Dense(512, activation = 'relu'))\n",
        "model.add(Dense(1, activation = 'sigmoid'))\n",
        "model.summary()\n",
        "model.compile(optimizer = RMSprop(lr=1e-4), loss = 'binary_crossentropy', metrics = ['accuracy'])"
      ],
      "execution_count": null,
      "outputs": [
        {
          "output_type": "stream",
          "text": [
            "Model: \"sequential_2\"\n",
            "_________________________________________________________________\n",
            "Layer (type)                 Output Shape              Param #   \n",
            "=================================================================\n",
            "conv2d_1 (Conv2D)            (None, 148, 148, 32)      896       \n",
            "_________________________________________________________________\n",
            "max_pooling2d_1 (MaxPooling2 (None, 74, 74, 32)        0         \n",
            "_________________________________________________________________\n",
            "conv2d_2 (Conv2D)            (None, 72, 72, 64)        18496     \n",
            "_________________________________________________________________\n",
            "max_pooling2d_2 (MaxPooling2 (None, 36, 36, 64)        0         \n",
            "_________________________________________________________________\n",
            "conv2d_3 (Conv2D)            (None, 34, 34, 128)       73856     \n",
            "_________________________________________________________________\n",
            "max_pooling2d_3 (MaxPooling2 (None, 17, 17, 128)       0         \n",
            "_________________________________________________________________\n",
            "conv2d_4 (Conv2D)            (None, 15, 15, 128)       147584    \n",
            "_________________________________________________________________\n",
            "max_pooling2d_4 (MaxPooling2 (None, 7, 7, 128)         0         \n",
            "_________________________________________________________________\n",
            "dropout_1 (Dropout)          (None, 7, 7, 128)         0         \n",
            "_________________________________________________________________\n",
            "flatten_1 (Flatten)          (None, 6272)              0         \n",
            "_________________________________________________________________\n",
            "dense_1 (Dense)              (None, 512)               3211776   \n",
            "_________________________________________________________________\n",
            "dense_2 (Dense)              (None, 1)                 513       \n",
            "=================================================================\n",
            "Total params: 3,453,121\n",
            "Trainable params: 3,453,121\n",
            "Non-trainable params: 0\n",
            "_________________________________________________________________\n"
          ],
          "name": "stdout"
        }
      ]
    },
    {
      "cell_type": "code",
      "metadata": {
        "id": "WMUsQ7r4YicB",
        "colab_type": "code",
        "colab": {
          "base_uri": "https://localhost:8080/",
          "height": 1000
        },
        "outputId": "66b4e636-78f4-4b2c-b107-2af91e7755d6"
      },
      "source": [
        " history = model.fit_generator(\n",
        "    train_generator,\n",
        "    steps_per_epoch = 100, # 2000 images = batch_size * steps\n",
        "    epochs = 100,\n",
        "    validation_data = validation_generator,\n",
        "    verbose = 2,\n",
        "    validation_steps = 50) #1000 images = batch_size*steps\n",
        "model.save_weights('classifier1.h5')"
      ],
      "execution_count": null,
      "outputs": [
        {
          "output_type": "stream",
          "text": [
            "Epoch 1/100\n",
            " - 26s - loss: 0.6945 - accuracy: 0.5170 - val_loss: 0.7023 - val_accuracy: 0.5990\n",
            "Epoch 2/100\n",
            " - 19s - loss: 0.6843 - accuracy: 0.5545 - val_loss: 0.6905 - val_accuracy: 0.6200\n",
            "Epoch 3/100\n",
            " - 18s - loss: 0.6758 - accuracy: 0.5755 - val_loss: 0.6489 - val_accuracy: 0.6400\n",
            "Epoch 4/100\n",
            " - 18s - loss: 0.6735 - accuracy: 0.5860 - val_loss: 0.5579 - val_accuracy: 0.6520\n",
            "Epoch 5/100\n",
            " - 18s - loss: 0.6545 - accuracy: 0.6325 - val_loss: 0.6356 - val_accuracy: 0.6650\n",
            "Epoch 6/100\n",
            " - 17s - loss: 0.6366 - accuracy: 0.6390 - val_loss: 0.5493 - val_accuracy: 0.6840\n",
            "Epoch 7/100\n",
            " - 17s - loss: 0.6245 - accuracy: 0.6380 - val_loss: 0.5868 - val_accuracy: 0.6690\n",
            "Epoch 8/100\n",
            " - 19s - loss: 0.6153 - accuracy: 0.6640 - val_loss: 0.7262 - val_accuracy: 0.6740\n",
            "Epoch 9/100\n",
            " - 17s - loss: 0.6070 - accuracy: 0.6805 - val_loss: 0.6240 - val_accuracy: 0.7060\n",
            "Epoch 10/100\n",
            " - 17s - loss: 0.5843 - accuracy: 0.6950 - val_loss: 0.4939 - val_accuracy: 0.7030\n",
            "Epoch 11/100\n",
            " - 16s - loss: 0.5907 - accuracy: 0.6800 - val_loss: 0.6289 - val_accuracy: 0.6650\n",
            "Epoch 12/100\n",
            " - 16s - loss: 0.5771 - accuracy: 0.6840 - val_loss: 0.5074 - val_accuracy: 0.7060\n",
            "Epoch 13/100\n",
            " - 16s - loss: 0.5864 - accuracy: 0.6930 - val_loss: 0.3177 - val_accuracy: 0.6850\n",
            "Epoch 14/100\n",
            " - 16s - loss: 0.5726 - accuracy: 0.6940 - val_loss: 0.4824 - val_accuracy: 0.7190\n",
            "Epoch 15/100\n",
            " - 16s - loss: 0.5522 - accuracy: 0.7165 - val_loss: 0.6190 - val_accuracy: 0.6960\n",
            "Epoch 16/100\n",
            " - 17s - loss: 0.5645 - accuracy: 0.6990 - val_loss: 0.5726 - val_accuracy: 0.7360\n",
            "Epoch 17/100\n",
            " - 17s - loss: 0.5569 - accuracy: 0.7130 - val_loss: 0.4688 - val_accuracy: 0.7220\n",
            "Epoch 18/100\n",
            " - 16s - loss: 0.5329 - accuracy: 0.7385 - val_loss: 0.5565 - val_accuracy: 0.7440\n",
            "Epoch 19/100\n",
            " - 16s - loss: 0.5421 - accuracy: 0.7195 - val_loss: 0.4833 - val_accuracy: 0.7330\n",
            "Epoch 20/100\n",
            " - 16s - loss: 0.5427 - accuracy: 0.7305 - val_loss: 0.3035 - val_accuracy: 0.7450\n",
            "Epoch 21/100\n",
            " - 16s - loss: 0.5506 - accuracy: 0.7045 - val_loss: 0.6037 - val_accuracy: 0.7410\n",
            "Epoch 22/100\n",
            " - 17s - loss: 0.5474 - accuracy: 0.7095 - val_loss: 0.6263 - val_accuracy: 0.7480\n",
            "Epoch 23/100\n",
            " - 17s - loss: 0.5361 - accuracy: 0.7345 - val_loss: 0.5051 - val_accuracy: 0.7520\n",
            "Epoch 24/100\n",
            " - 16s - loss: 0.5326 - accuracy: 0.7325 - val_loss: 0.5681 - val_accuracy: 0.7390\n",
            "Epoch 25/100\n",
            " - 17s - loss: 0.5225 - accuracy: 0.7405 - val_loss: 0.5600 - val_accuracy: 0.7350\n",
            "Epoch 26/100\n",
            " - 17s - loss: 0.5225 - accuracy: 0.7335 - val_loss: 0.5650 - val_accuracy: 0.7490\n",
            "Epoch 27/100\n",
            " - 17s - loss: 0.5231 - accuracy: 0.7495 - val_loss: 0.5207 - val_accuracy: 0.7410\n",
            "Epoch 28/100\n",
            " - 16s - loss: 0.5143 - accuracy: 0.7445 - val_loss: 0.3433 - val_accuracy: 0.7460\n",
            "Epoch 29/100\n",
            " - 17s - loss: 0.5188 - accuracy: 0.7355 - val_loss: 0.6799 - val_accuracy: 0.7370\n",
            "Epoch 30/100\n",
            " - 16s - loss: 0.5158 - accuracy: 0.7420 - val_loss: 0.4516 - val_accuracy: 0.7600\n",
            "Epoch 31/100\n",
            " - 16s - loss: 0.4981 - accuracy: 0.7480 - val_loss: 0.4384 - val_accuracy: 0.7540\n",
            "Epoch 32/100\n",
            " - 16s - loss: 0.5105 - accuracy: 0.7475 - val_loss: 0.6455 - val_accuracy: 0.7620\n",
            "Epoch 33/100\n",
            " - 16s - loss: 0.5107 - accuracy: 0.7450 - val_loss: 0.4843 - val_accuracy: 0.7450\n",
            "Epoch 34/100\n",
            " - 16s - loss: 0.5014 - accuracy: 0.7410 - val_loss: 0.4345 - val_accuracy: 0.7630\n",
            "Epoch 35/100\n",
            " - 16s - loss: 0.4978 - accuracy: 0.7490 - val_loss: 0.3651 - val_accuracy: 0.7440\n",
            "Epoch 36/100\n",
            " - 16s - loss: 0.4945 - accuracy: 0.7445 - val_loss: 0.5382 - val_accuracy: 0.7730\n",
            "Epoch 37/100\n",
            " - 17s - loss: 0.5013 - accuracy: 0.7565 - val_loss: 0.4620 - val_accuracy: 0.7430\n",
            "Epoch 38/100\n",
            " - 17s - loss: 0.4992 - accuracy: 0.7560 - val_loss: 0.4841 - val_accuracy: 0.7630\n",
            "Epoch 39/100\n",
            " - 17s - loss: 0.4983 - accuracy: 0.7540 - val_loss: 0.3832 - val_accuracy: 0.7520\n",
            "Epoch 40/100\n",
            " - 17s - loss: 0.4906 - accuracy: 0.7635 - val_loss: 0.4680 - val_accuracy: 0.7680\n",
            "Epoch 41/100\n",
            " - 17s - loss: 0.4847 - accuracy: 0.7730 - val_loss: 0.4025 - val_accuracy: 0.7780\n",
            "Epoch 42/100\n",
            " - 16s - loss: 0.4853 - accuracy: 0.7560 - val_loss: 0.3274 - val_accuracy: 0.7740\n",
            "Epoch 43/100\n",
            " - 16s - loss: 0.4975 - accuracy: 0.7550 - val_loss: 0.5614 - val_accuracy: 0.7650\n",
            "Epoch 44/100\n",
            " - 16s - loss: 0.4778 - accuracy: 0.7780 - val_loss: 0.4655 - val_accuracy: 0.7690\n",
            "Epoch 45/100\n",
            " - 17s - loss: 0.4771 - accuracy: 0.7625 - val_loss: 0.4665 - val_accuracy: 0.7940\n",
            "Epoch 46/100\n",
            " - 18s - loss: 0.4795 - accuracy: 0.7770 - val_loss: 0.4625 - val_accuracy: 0.7680\n",
            "Epoch 47/100\n",
            " - 17s - loss: 0.4801 - accuracy: 0.7685 - val_loss: 0.4528 - val_accuracy: 0.7660\n",
            "Epoch 48/100\n",
            " - 17s - loss: 0.4726 - accuracy: 0.7695 - val_loss: 0.8067 - val_accuracy: 0.7700\n",
            "Epoch 49/100\n",
            " - 18s - loss: 0.4633 - accuracy: 0.7795 - val_loss: 0.6846 - val_accuracy: 0.7080\n",
            "Epoch 50/100\n",
            " - 18s - loss: 0.4747 - accuracy: 0.7705 - val_loss: 0.4847 - val_accuracy: 0.7300\n",
            "Epoch 51/100\n",
            " - 18s - loss: 0.4605 - accuracy: 0.7870 - val_loss: 0.7752 - val_accuracy: 0.7500\n",
            "Epoch 52/100\n",
            " - 18s - loss: 0.4698 - accuracy: 0.7735 - val_loss: 0.4115 - val_accuracy: 0.7970\n",
            "Epoch 53/100\n",
            " - 18s - loss: 0.4573 - accuracy: 0.7780 - val_loss: 0.3274 - val_accuracy: 0.8010\n",
            "Epoch 54/100\n",
            " - 18s - loss: 0.4740 - accuracy: 0.7715 - val_loss: 0.4044 - val_accuracy: 0.8050\n",
            "Epoch 55/100\n",
            " - 17s - loss: 0.4672 - accuracy: 0.7790 - val_loss: 0.3572 - val_accuracy: 0.7950\n",
            "Epoch 56/100\n",
            " - 16s - loss: 0.4481 - accuracy: 0.7865 - val_loss: 0.4452 - val_accuracy: 0.8010\n",
            "Epoch 57/100\n",
            " - 16s - loss: 0.4555 - accuracy: 0.7925 - val_loss: 0.3769 - val_accuracy: 0.7840\n",
            "Epoch 58/100\n",
            " - 16s - loss: 0.4474 - accuracy: 0.7955 - val_loss: 0.6329 - val_accuracy: 0.7840\n",
            "Epoch 59/100\n",
            " - 16s - loss: 0.4480 - accuracy: 0.7810 - val_loss: 0.4627 - val_accuracy: 0.7970\n",
            "Epoch 60/100\n",
            " - 16s - loss: 0.4524 - accuracy: 0.7865 - val_loss: 0.2317 - val_accuracy: 0.7960\n",
            "Epoch 61/100\n",
            " - 16s - loss: 0.4480 - accuracy: 0.7870 - val_loss: 0.6805 - val_accuracy: 0.7750\n",
            "Epoch 62/100\n",
            " - 16s - loss: 0.4286 - accuracy: 0.7920 - val_loss: 0.2824 - val_accuracy: 0.7940\n",
            "Epoch 63/100\n",
            " - 17s - loss: 0.4514 - accuracy: 0.7800 - val_loss: 0.5091 - val_accuracy: 0.7730\n",
            "Epoch 64/100\n",
            " - 17s - loss: 0.4480 - accuracy: 0.7870 - val_loss: 0.4524 - val_accuracy: 0.7690\n",
            "Epoch 65/100\n",
            " - 16s - loss: 0.4457 - accuracy: 0.7895 - val_loss: 0.8175 - val_accuracy: 0.7810\n",
            "Epoch 66/100\n",
            " - 17s - loss: 0.4391 - accuracy: 0.7920 - val_loss: 0.7012 - val_accuracy: 0.7940\n",
            "Epoch 67/100\n",
            " - 17s - loss: 0.4245 - accuracy: 0.8060 - val_loss: 0.3994 - val_accuracy: 0.8050\n",
            "Epoch 68/100\n",
            " - 17s - loss: 0.4350 - accuracy: 0.8055 - val_loss: 0.4144 - val_accuracy: 0.8030\n",
            "Epoch 69/100\n",
            " - 17s - loss: 0.4419 - accuracy: 0.7845 - val_loss: 0.6381 - val_accuracy: 0.7790\n",
            "Epoch 70/100\n",
            " - 17s - loss: 0.4193 - accuracy: 0.7995 - val_loss: 0.5582 - val_accuracy: 0.8060\n",
            "Epoch 71/100\n",
            " - 17s - loss: 0.4201 - accuracy: 0.7965 - val_loss: 0.4788 - val_accuracy: 0.8000\n",
            "Epoch 72/100\n",
            " - 17s - loss: 0.4254 - accuracy: 0.8165 - val_loss: 0.4266 - val_accuracy: 0.8130\n",
            "Epoch 73/100\n",
            " - 17s - loss: 0.4165 - accuracy: 0.8080 - val_loss: 0.4123 - val_accuracy: 0.8020\n",
            "Epoch 74/100\n",
            " - 17s - loss: 0.4257 - accuracy: 0.8040 - val_loss: 0.6398 - val_accuracy: 0.7870\n",
            "Epoch 75/100\n",
            " - 17s - loss: 0.4123 - accuracy: 0.8070 - val_loss: 0.3305 - val_accuracy: 0.8260\n",
            "Epoch 76/100\n",
            " - 17s - loss: 0.4220 - accuracy: 0.8035 - val_loss: 0.3527 - val_accuracy: 0.8130\n",
            "Epoch 77/100\n",
            " - 17s - loss: 0.4160 - accuracy: 0.8020 - val_loss: 0.4022 - val_accuracy: 0.8210\n",
            "Epoch 78/100\n",
            " - 17s - loss: 0.4108 - accuracy: 0.8150 - val_loss: 0.5039 - val_accuracy: 0.8050\n",
            "Epoch 79/100\n",
            " - 17s - loss: 0.4115 - accuracy: 0.8150 - val_loss: 0.4049 - val_accuracy: 0.8090\n",
            "Epoch 80/100\n",
            " - 17s - loss: 0.4046 - accuracy: 0.8155 - val_loss: 0.6891 - val_accuracy: 0.8280\n",
            "Epoch 81/100\n",
            " - 17s - loss: 0.4103 - accuracy: 0.8240 - val_loss: 0.3091 - val_accuracy: 0.7980\n",
            "Epoch 82/100\n",
            " - 17s - loss: 0.4044 - accuracy: 0.8110 - val_loss: 0.4550 - val_accuracy: 0.7810\n",
            "Epoch 83/100\n",
            " - 19s - loss: 0.4063 - accuracy: 0.8155 - val_loss: 0.3621 - val_accuracy: 0.8160\n",
            "Epoch 84/100\n",
            " - 19s - loss: 0.4023 - accuracy: 0.8105 - val_loss: 0.3240 - val_accuracy: 0.8110\n",
            "Epoch 85/100\n",
            " - 19s - loss: 0.4004 - accuracy: 0.8220 - val_loss: 0.5258 - val_accuracy: 0.7900\n",
            "Epoch 86/100\n",
            " - 19s - loss: 0.3858 - accuracy: 0.8295 - val_loss: 0.6064 - val_accuracy: 0.7970\n",
            "Epoch 87/100\n",
            " - 19s - loss: 0.3972 - accuracy: 0.8210 - val_loss: 0.3370 - val_accuracy: 0.8250\n",
            "Epoch 88/100\n",
            " - 18s - loss: 0.3836 - accuracy: 0.8295 - val_loss: 0.4741 - val_accuracy: 0.8230\n",
            "Epoch 89/100\n",
            " - 18s - loss: 0.3825 - accuracy: 0.8340 - val_loss: 0.2423 - val_accuracy: 0.7250\n",
            "Epoch 90/100\n",
            " - 18s - loss: 0.3956 - accuracy: 0.8230 - val_loss: 0.7162 - val_accuracy: 0.7450\n",
            "Epoch 91/100\n",
            " - 19s - loss: 0.3928 - accuracy: 0.8130 - val_loss: 0.2711 - val_accuracy: 0.8060\n",
            "Epoch 92/100\n",
            " - 20s - loss: 0.3833 - accuracy: 0.8265 - val_loss: 0.3651 - val_accuracy: 0.8090\n",
            "Epoch 93/100\n",
            " - 19s - loss: 0.3786 - accuracy: 0.8265 - val_loss: 0.4684 - val_accuracy: 0.8200\n",
            "Epoch 94/100\n",
            " - 18s - loss: 0.3772 - accuracy: 0.8215 - val_loss: 0.5520 - val_accuracy: 0.7570\n",
            "Epoch 95/100\n",
            " - 18s - loss: 0.3978 - accuracy: 0.8210 - val_loss: 0.3016 - val_accuracy: 0.8210\n",
            "Epoch 96/100\n",
            " - 18s - loss: 0.3800 - accuracy: 0.8370 - val_loss: 0.0501 - val_accuracy: 0.8400\n",
            "Epoch 97/100\n",
            " - 18s - loss: 0.3687 - accuracy: 0.8445 - val_loss: 0.4397 - val_accuracy: 0.8050\n",
            "Epoch 98/100\n",
            " - 18s - loss: 0.3888 - accuracy: 0.8300 - val_loss: 0.4711 - val_accuracy: 0.8140\n",
            "Epoch 99/100\n",
            " - 19s - loss: 0.3788 - accuracy: 0.8305 - val_loss: 0.6053 - val_accuracy: 0.8260\n",
            "Epoch 100/100\n",
            " - 18s - loss: 0.3842 - accuracy: 0.8290 - val_loss: 0.3329 - val_accuracy: 0.8220\n"
          ],
          "name": "stdout"
        }
      ]
    },
    {
      "cell_type": "code",
      "metadata": {
        "id": "ZZXfnnOMCMZa",
        "colab_type": "code",
        "colab": {
          "base_uri": "https://localhost:8080/",
          "height": 545
        },
        "outputId": "ec1b1826-5496-4ab3-a611-aebb4e322ed9"
      },
      "source": [
        "import matplotlib.pyplot as plt\n",
        "acc = history.history['accuracy']\n",
        "val_acc = history.history['val_accuracy']\n",
        "loss = history.history['loss']\n",
        "val_loss = history.history['val_loss']\n",
        "\n",
        "epochs = range(len(acc))\n",
        "\n",
        "plt.plot(epochs, acc, 'bo', label='Training accuracy')\n",
        "plt.plot(epochs, val_acc, 'b', label='Validation accuracy')\n",
        "plt.title('Training and validation accuracy')\n",
        "\n",
        "plt.figure()\n",
        "\n",
        "plt.plot(epochs, loss, 'bo', label='Training Loss')\n",
        "plt.plot(epochs, val_loss, 'b', label='Validation Loss')\n",
        "plt.title('Training and validation loss')\n",
        "plt.legend()\n",
        "\n",
        "plt.show()"
      ],
      "execution_count": null,
      "outputs": [
        {
          "output_type": "display_data",
          "data": {
            "image/png": "[encoded data removed]",
            "text/plain": [
              "<Figure size 432x288 with 1 Axes>"
            ]
          },
          "metadata": {
            "tags": [],
            "needs_background": "light"
          }
        },
        {
          "output_type": "display_data",
          "data": {
            "image/png": "[encoded data removed]",
            "text/plain": [
              "<Figure size 432x288 with 1 Axes>"
            ]
          },
          "metadata": {
            "tags": [],
            "needs_background": "light"
          }
        }
      ]
    },
    {
      "cell_type": "code",
      "metadata": {
        "id": "WpxEurjScnOR",
        "colab_type": "code",
        "colab": {}
      },
      "source": [
        ""
      ],
      "execution_count": null,
      "outputs": []
    }
  ]
}