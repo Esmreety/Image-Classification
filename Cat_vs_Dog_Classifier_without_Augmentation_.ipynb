{
  "nbformat": 4,
  "nbformat_minor": 0,
  "metadata": {
    "colab": {
      "name": "Cat vs Dog Classifier without Augmentation .ipynb",
      "provenance": [],
      "collapsed_sections": [],
      "mount_file_id": "19X_LNOaIGTvoxWBdRjUZRqOMIjX-bIVv",
      "authorship_tag": "ABX9TyNJhdVHkJDb7fFIqrA28Hv7",
      "include_colab_link": true
    },
    "kernelspec": {
      "name": "python3",
      "display_name": "Python 3"
    },
    "accelerator": "GPU"
  },
  "cells": [
    {
      "cell_type": "markdown",
      "metadata": {
        "id": "view-in-github",
        "colab_type": "text"
      },
      "source": [
        "<a href=\"https://colab.research.google.com/github/Esmreety/Image-Classification/blob/master/Cat_vs_Dog_Classifier_without_Augmentation_.ipynb\" target=\"_parent\"><img src=\"https://colab.research.google.com/assets/colab-badge.svg\" alt=\"Open In Colab\"/></a>"
      ]
    },
    {
      "cell_type": "code",
      "metadata": {
        "id": "lVW6vbIqRUa1",
        "colab_type": "code",
        "colab": {
          "base_uri": "https://localhost:8080/",
          "height": 34
        },
        "outputId": "a77765a2-cfc0-43d4-c25b-11e7612431a1"
      },
      "source": [
        "import tensorflow as tf\n",
        "from tensorflow import keras\n",
        "from keras.preprocessing.image import ImageDataGenerator\n",
        "from keras.models import Sequential\n",
        "from keras.layers import Conv2D, MaxPooling2D, Flatten, Dense\n",
        "from keras import backend as k\n",
        "import numpy as np\n",
        "from keras.preprocessing import image\n",
        "from keras.optimizers import RMSprop"
      ],
      "execution_count": null,
      "outputs": [
        {
          "output_type": "stream",
          "text": [
            "Using TensorFlow backend.\n"
          ],
          "name": "stderr"
        }
      ]
    },
    {
      "cell_type": "code",
      "metadata": {
        "id": "JuoobnDKTBqq",
        "colab_type": "code",
        "colab": {}
      },
      "source": [
        "img_width, img_height = 150, 150\n",
        "train_data_dir = '/content/cats_and_dogs_filtered/train'\n",
        "validation_data_dir = '/content/cats_and_dogs_filtered/validation'\n",
        "batch_size = 20\n",
        "\n",
        "if k.image_data_format() == 'channels_first':\n",
        "  input_shape = (3, img_width, img_height)\n",
        "else:\n",
        "    input_shape = (img_width, img_height, 3)"
      ],
      "execution_count": null,
      "outputs": []
    },
    {
      "cell_type": "code",
      "metadata": {
        "id": "JDYRwYCJUR1y",
        "colab_type": "code",
        "colab": {}
      },
      "source": [
        "train_datagen = ImageDataGenerator(\n",
        "                     rescale = 1./255)\n",
        "test_datagen = ImageDataGenerator(rescale = 1./255)\n"
      ],
      "execution_count": null,
      "outputs": []
    },
    {
      "cell_type": "code",
      "metadata": {
        "id": "WF-g0gtYVIM8",
        "colab_type": "code",
        "colab": {
          "base_uri": "https://localhost:8080/",
          "height": 52
        },
        "outputId": "40a6a2d2-4b91-4f70-973a-639c331b033a"
      },
      "source": [
        "train_generator = train_datagen.flow_from_directory(\n",
        "                              train_data_dir,\n",
        "                              target_size = (img_width, img_height),\n",
        "                              batch_size = batch_size,\n",
        "                                class_mode = 'binary')\n",
        "validation_generator = test_datagen.flow_from_directory(\n",
        "                                validation_data_dir,\n",
        "                                target_size = (img_width, img_height),\n",
        "                                batch_size = batch_size,\n",
        "                                class_mode = 'binary')\n",
        "                                                              \n"
      ],
      "execution_count": null,
      "outputs": [
        {
          "output_type": "stream",
          "text": [
            "Found 2000 images belonging to 2 classes.\n",
            "Found 1000 images belonging to 2 classes.\n"
          ],
          "name": "stdout"
        }
      ]
    },
    {
      "cell_type": "code",
      "metadata": {
        "id": "8F6n0LM5WGbw",
        "colab_type": "code",
        "colab": {
          "base_uri": "https://localhost:8080/",
          "height": 538
        },
        "outputId": "718e6a22-1c81-42f1-94a1-47ddb336662f"
      },
      "source": [
        "model = Sequential()\n",
        "model.add(Conv2D(32, (3,3), activation = 'relu', input_shape = input_shape))\n",
        "model.add(MaxPooling2D(pool_size = (2,2)))\n",
        "model.add(Conv2D(64, (3,3), activation = 'relu', input_shape = input_shape))\n",
        "model.add(MaxPooling2D(pool_size = (2,2)))\n",
        "model.add(Conv2D(128, (3,3), activation = 'relu', input_shape = input_shape))\n",
        "model.add(MaxPooling2D(pool_size = (2,2)))\n",
        "model.add(Conv2D(128, (3,3), activation = 'relu', input_shape = input_shape))\n",
        "model.add(MaxPooling2D(pool_size = (2,2)))\n",
        "model.add(Flatten())\n",
        "model.add(Dense(512, activation = 'relu'))\n",
        "model.add(Dense(1, activation = 'sigmoid'))\n",
        "model.summary()\n",
        "model.compile(optimizer = RMSprop(lr=1e-4), loss = 'binary_crossentropy', metrics = ['accuracy'])"
      ],
      "execution_count": null,
      "outputs": [
        {
          "output_type": "stream",
          "text": [
            "Model: \"sequential_1\"\n",
            "_________________________________________________________________\n",
            "Layer (type)                 Output Shape              Param #   \n",
            "=================================================================\n",
            "conv2d_1 (Conv2D)            (None, 148, 148, 32)      896       \n",
            "_________________________________________________________________\n",
            "max_pooling2d_1 (MaxPooling2 (None, 74, 74, 32)        0         \n",
            "_________________________________________________________________\n",
            "conv2d_2 (Conv2D)            (None, 72, 72, 64)        18496     \n",
            "_________________________________________________________________\n",
            "max_pooling2d_2 (MaxPooling2 (None, 36, 36, 64)        0         \n",
            "_________________________________________________________________\n",
            "conv2d_3 (Conv2D)            (None, 34, 34, 128)       73856     \n",
            "_________________________________________________________________\n",
            "max_pooling2d_3 (MaxPooling2 (None, 17, 17, 128)       0         \n",
            "_________________________________________________________________\n",
            "conv2d_4 (Conv2D)            (None, 15, 15, 128)       147584    \n",
            "_________________________________________________________________\n",
            "max_pooling2d_4 (MaxPooling2 (None, 7, 7, 128)         0         \n",
            "_________________________________________________________________\n",
            "flatten_1 (Flatten)          (None, 6272)              0         \n",
            "_________________________________________________________________\n",
            "dense_1 (Dense)              (None, 512)               3211776   \n",
            "_________________________________________________________________\n",
            "dense_2 (Dense)              (None, 1)                 513       \n",
            "=================================================================\n",
            "Total params: 3,453,121\n",
            "Trainable params: 3,453,121\n",
            "Non-trainable params: 0\n",
            "_________________________________________________________________\n"
          ],
          "name": "stdout"
        }
      ]
    },
    {
      "cell_type": "code",
      "metadata": {
        "id": "WMUsQ7r4YicB",
        "colab_type": "code",
        "colab": {
          "base_uri": "https://localhost:8080/",
          "height": 1000
        },
        "outputId": "26a60a9e-5436-4413-d669-364001e457f6"
      },
      "source": [
        " history = model.fit_generator(\n",
        "    train_generator,\n",
        "    steps_per_epoch = 100, # 2000 images = batch_size * steps\n",
        "    epochs = 100,\n",
        "    validation_data = validation_generator,\n",
        "    verbose = 2,\n",
        "    validation_steps = 50) #1000 images = batch_size*steps\n",
        "model.save_weights('classifier.h5')"
      ],
      "execution_count": null,
      "outputs": [
        {
          "output_type": "stream",
          "text": [
            "Epoch 1/100\n",
            " - 14s - loss: 0.6898 - accuracy: 0.5410 - val_loss: 0.6622 - val_accuracy: 0.6210\n",
            "Epoch 2/100\n",
            " - 8s - loss: 0.6583 - accuracy: 0.6000 - val_loss: 0.6976 - val_accuracy: 0.6340\n",
            "Epoch 3/100\n",
            " - 8s - loss: 0.6046 - accuracy: 0.6720 - val_loss: 0.6357 - val_accuracy: 0.6920\n",
            "Epoch 4/100\n",
            " - 8s - loss: 0.5680 - accuracy: 0.6990 - val_loss: 0.7886 - val_accuracy: 0.6930\n",
            "Epoch 5/100\n",
            " - 8s - loss: 0.5416 - accuracy: 0.7270 - val_loss: 0.6533 - val_accuracy: 0.6840\n",
            "Epoch 6/100\n",
            " - 8s - loss: 0.5116 - accuracy: 0.7425 - val_loss: 0.5448 - val_accuracy: 0.7120\n",
            "Epoch 7/100\n",
            " - 8s - loss: 0.4905 - accuracy: 0.7675 - val_loss: 0.6735 - val_accuracy: 0.7210\n",
            "Epoch 8/100\n",
            " - 8s - loss: 0.4574 - accuracy: 0.7860 - val_loss: 0.4846 - val_accuracy: 0.7180\n",
            "Epoch 9/100\n",
            " - 8s - loss: 0.4284 - accuracy: 0.7985 - val_loss: 0.4507 - val_accuracy: 0.7270\n",
            "Epoch 10/100\n",
            " - 8s - loss: 0.3999 - accuracy: 0.8170 - val_loss: 0.6807 - val_accuracy: 0.7340\n",
            "Epoch 11/100\n",
            " - 8s - loss: 0.3873 - accuracy: 0.8275 - val_loss: 0.5079 - val_accuracy: 0.7250\n",
            "Epoch 12/100\n",
            " - 8s - loss: 0.3618 - accuracy: 0.8450 - val_loss: 0.7071 - val_accuracy: 0.7410\n",
            "Epoch 13/100\n",
            " - 8s - loss: 0.3331 - accuracy: 0.8580 - val_loss: 0.6095 - val_accuracy: 0.7430\n",
            "Epoch 14/100\n",
            " - 8s - loss: 0.3112 - accuracy: 0.8725 - val_loss: 0.4663 - val_accuracy: 0.7400\n",
            "Epoch 15/100\n",
            " - 8s - loss: 0.2908 - accuracy: 0.8825 - val_loss: 0.6082 - val_accuracy: 0.7200\n",
            "Epoch 16/100\n",
            " - 8s - loss: 0.2696 - accuracy: 0.8875 - val_loss: 0.9100 - val_accuracy: 0.7300\n",
            "Epoch 17/100\n",
            " - 8s - loss: 0.2479 - accuracy: 0.9000 - val_loss: 0.3264 - val_accuracy: 0.7510\n",
            "Epoch 18/100\n",
            " - 8s - loss: 0.2279 - accuracy: 0.9115 - val_loss: 0.4968 - val_accuracy: 0.7520\n",
            "Epoch 19/100\n",
            " - 8s - loss: 0.2052 - accuracy: 0.9230 - val_loss: 0.8340 - val_accuracy: 0.7500\n",
            "Epoch 20/100\n",
            " - 8s - loss: 0.1869 - accuracy: 0.9335 - val_loss: 0.6801 - val_accuracy: 0.7530\n",
            "Epoch 21/100\n",
            " - 8s - loss: 0.1769 - accuracy: 0.9395 - val_loss: 0.3344 - val_accuracy: 0.7590\n",
            "Epoch 22/100\n",
            " - 8s - loss: 0.1520 - accuracy: 0.9495 - val_loss: 0.6108 - val_accuracy: 0.7600\n",
            "Epoch 23/100\n",
            " - 8s - loss: 0.1416 - accuracy: 0.9550 - val_loss: 1.0787 - val_accuracy: 0.7560\n",
            "Epoch 24/100\n",
            " - 8s - loss: 0.1181 - accuracy: 0.9625 - val_loss: 0.4087 - val_accuracy: 0.7500\n",
            "Epoch 25/100\n",
            " - 8s - loss: 0.1041 - accuracy: 0.9690 - val_loss: 1.0248 - val_accuracy: 0.7420\n",
            "Epoch 26/100\n",
            " - 8s - loss: 0.0881 - accuracy: 0.9705 - val_loss: 1.3924 - val_accuracy: 0.7530\n",
            "Epoch 27/100\n",
            " - 8s - loss: 0.0785 - accuracy: 0.9765 - val_loss: 1.1926 - val_accuracy: 0.7500\n",
            "Epoch 28/100\n",
            " - 8s - loss: 0.0652 - accuracy: 0.9825 - val_loss: 0.2468 - val_accuracy: 0.7630\n",
            "Epoch 29/100\n",
            " - 8s - loss: 0.0505 - accuracy: 0.9860 - val_loss: 0.9534 - val_accuracy: 0.7420\n",
            "Epoch 30/100\n",
            " - 8s - loss: 0.0501 - accuracy: 0.9870 - val_loss: 0.5014 - val_accuracy: 0.7590\n",
            "Epoch 31/100\n",
            " - 8s - loss: 0.0444 - accuracy: 0.9885 - val_loss: 0.5331 - val_accuracy: 0.7560\n",
            "Epoch 32/100\n",
            " - 8s - loss: 0.0374 - accuracy: 0.9905 - val_loss: 0.7737 - val_accuracy: 0.7600\n",
            "Epoch 33/100\n",
            " - 8s - loss: 0.0281 - accuracy: 0.9955 - val_loss: 1.5063 - val_accuracy: 0.7590\n",
            "Epoch 34/100\n",
            " - 8s - loss: 0.0310 - accuracy: 0.9915 - val_loss: 0.7374 - val_accuracy: 0.7480\n",
            "Epoch 35/100\n",
            " - 8s - loss: 0.0275 - accuracy: 0.9890 - val_loss: 2.3129 - val_accuracy: 0.7500\n",
            "Epoch 36/100\n",
            " - 8s - loss: 0.0202 - accuracy: 0.9960 - val_loss: 0.7000 - val_accuracy: 0.7580\n",
            "Epoch 37/100\n",
            " - 8s - loss: 0.0173 - accuracy: 0.9975 - val_loss: 1.0992 - val_accuracy: 0.7060\n",
            "Epoch 38/100\n",
            " - 8s - loss: 0.0200 - accuracy: 0.9950 - val_loss: 1.2634 - val_accuracy: 0.7490\n",
            "Epoch 39/100\n",
            " - 8s - loss: 0.0246 - accuracy: 0.9920 - val_loss: 1.4414 - val_accuracy: 0.7370\n",
            "Epoch 40/100\n",
            " - 8s - loss: 0.0185 - accuracy: 0.9975 - val_loss: 0.5289 - val_accuracy: 0.7550\n",
            "Epoch 41/100\n",
            " - 8s - loss: 0.0165 - accuracy: 0.9945 - val_loss: 2.1534 - val_accuracy: 0.7610\n",
            "Epoch 42/100\n",
            " - 8s - loss: 0.0125 - accuracy: 0.9955 - val_loss: 0.4418 - val_accuracy: 0.7540\n",
            "Epoch 43/100\n",
            " - 8s - loss: 0.0096 - accuracy: 0.9975 - val_loss: 2.2160 - val_accuracy: 0.7060\n",
            "Epoch 44/100\n",
            " - 8s - loss: 0.0116 - accuracy: 0.9980 - val_loss: 2.0364 - val_accuracy: 0.7470\n",
            "Epoch 45/100\n",
            " - 8s - loss: 0.0113 - accuracy: 0.9960 - val_loss: 1.9319 - val_accuracy: 0.6990\n",
            "Epoch 46/100\n",
            " - 8s - loss: 0.0129 - accuracy: 0.9965 - val_loss: 3.1987 - val_accuracy: 0.7560\n",
            "Epoch 47/100\n",
            " - 8s - loss: 0.0103 - accuracy: 0.9970 - val_loss: 1.1611 - val_accuracy: 0.7470\n",
            "Epoch 48/100\n",
            " - 8s - loss: 0.0099 - accuracy: 0.9975 - val_loss: 0.4423 - val_accuracy: 0.7480\n",
            "Epoch 49/100\n",
            " - 8s - loss: 0.0084 - accuracy: 0.9975 - val_loss: 2.3439 - val_accuracy: 0.7450\n",
            "Epoch 50/100\n",
            " - 8s - loss: 0.0091 - accuracy: 0.9970 - val_loss: 1.1365 - val_accuracy: 0.7480\n",
            "Epoch 51/100\n",
            " - 8s - loss: 0.0040 - accuracy: 0.9990 - val_loss: 0.2763 - val_accuracy: 0.7520\n",
            "Epoch 52/100\n",
            " - 8s - loss: 0.0125 - accuracy: 0.9960 - val_loss: 0.5641 - val_accuracy: 0.7520\n",
            "Epoch 53/100\n",
            " - 8s - loss: 0.0085 - accuracy: 0.9975 - val_loss: 2.2005 - val_accuracy: 0.7620\n",
            "Epoch 54/100\n",
            " - 8s - loss: 0.0057 - accuracy: 0.9980 - val_loss: 2.2358 - val_accuracy: 0.7600\n",
            "Epoch 55/100\n",
            " - 8s - loss: 0.0068 - accuracy: 0.9985 - val_loss: 2.6584 - val_accuracy: 0.7580\n",
            "Epoch 56/100\n",
            " - 8s - loss: 0.0074 - accuracy: 0.9980 - val_loss: 2.0693 - val_accuracy: 0.7620\n",
            "Epoch 57/100\n",
            " - 8s - loss: 0.0048 - accuracy: 0.9990 - val_loss: 2.4860 - val_accuracy: 0.7500\n",
            "Epoch 58/100\n",
            " - 8s - loss: 0.0059 - accuracy: 0.9975 - val_loss: 1.2740 - val_accuracy: 0.7610\n",
            "Epoch 59/100\n",
            " - 8s - loss: 0.0028 - accuracy: 0.9995 - val_loss: 1.1482 - val_accuracy: 0.7580\n",
            "Epoch 60/100\n",
            " - 8s - loss: 0.0097 - accuracy: 0.9980 - val_loss: 1.5727 - val_accuracy: 0.7590\n",
            "Epoch 61/100\n",
            " - 8s - loss: 0.0065 - accuracy: 0.9985 - val_loss: 4.7723 - val_accuracy: 0.7590\n",
            "Epoch 62/100\n",
            " - 8s - loss: 0.0087 - accuracy: 0.9970 - val_loss: 1.1109 - val_accuracy: 0.7560\n",
            "Epoch 63/100\n",
            " - 8s - loss: 0.0108 - accuracy: 0.9965 - val_loss: 0.6105 - val_accuracy: 0.7530\n",
            "Epoch 64/100\n",
            " - 8s - loss: 0.0033 - accuracy: 0.9985 - val_loss: 2.9933 - val_accuracy: 0.7420\n",
            "Epoch 65/100\n",
            " - 8s - loss: 0.0063 - accuracy: 0.9980 - val_loss: 0.8365 - val_accuracy: 0.7520\n",
            "Epoch 66/100\n",
            " - 8s - loss: 0.0038 - accuracy: 0.9990 - val_loss: 0.7944 - val_accuracy: 0.7530\n",
            "Epoch 67/100\n",
            " - 8s - loss: 0.0054 - accuracy: 0.9980 - val_loss: 1.7458 - val_accuracy: 0.7480\n",
            "Epoch 68/100\n",
            " - 8s - loss: 0.0032 - accuracy: 0.9990 - val_loss: 1.1054 - val_accuracy: 0.7530\n",
            "Epoch 69/100\n",
            " - 8s - loss: 0.0019 - accuracy: 0.9995 - val_loss: 1.8201 - val_accuracy: 0.7530\n",
            "Epoch 70/100\n",
            " - 8s - loss: 0.0081 - accuracy: 0.9980 - val_loss: 4.4752 - val_accuracy: 0.7470\n",
            "Epoch 71/100\n",
            " - 8s - loss: 0.0251 - accuracy: 0.9955 - val_loss: 0.6195 - val_accuracy: 0.7450\n",
            "Epoch 72/100\n",
            " - 8s - loss: 0.0035 - accuracy: 0.9990 - val_loss: 3.9159 - val_accuracy: 0.7470\n",
            "Epoch 73/100\n",
            " - 8s - loss: 0.0025 - accuracy: 0.9995 - val_loss: 1.1947 - val_accuracy: 0.7540\n",
            "Epoch 74/100\n",
            " - 8s - loss: 0.0074 - accuracy: 0.9975 - val_loss: 1.6952 - val_accuracy: 0.7530\n",
            "Epoch 75/100\n",
            " - 8s - loss: 0.0028 - accuracy: 0.9980 - val_loss: 1.1306 - val_accuracy: 0.7590\n",
            "Epoch 76/100\n",
            " - 8s - loss: 9.7935e-05 - accuracy: 1.0000 - val_loss: 2.6005 - val_accuracy: 0.7550\n",
            "Epoch 77/100\n",
            " - 8s - loss: 0.0071 - accuracy: 0.9980 - val_loss: 0.2514 - val_accuracy: 0.7560\n",
            "Epoch 78/100\n",
            " - 8s - loss: 0.0040 - accuracy: 0.9980 - val_loss: 2.0960 - val_accuracy: 0.7580\n",
            "Epoch 79/100\n",
            " - 8s - loss: 0.0099 - accuracy: 0.9970 - val_loss: 4.0966 - val_accuracy: 0.7410\n",
            "Epoch 80/100\n",
            " - 8s - loss: 3.5536e-05 - accuracy: 1.0000 - val_loss: 1.8129 - val_accuracy: 0.7630\n",
            "Epoch 81/100\n",
            " - 8s - loss: 0.0102 - accuracy: 0.9975 - val_loss: 4.4123 - val_accuracy: 0.7540\n",
            "Epoch 82/100\n",
            " - 8s - loss: 0.0055 - accuracy: 0.9985 - val_loss: 0.5390 - val_accuracy: 0.7500\n",
            "Epoch 83/100\n",
            " - 8s - loss: 0.0097 - accuracy: 0.9980 - val_loss: 0.9147 - val_accuracy: 0.7520\n",
            "Epoch 84/100\n",
            " - 8s - loss: 0.0040 - accuracy: 0.9990 - val_loss: 0.8844 - val_accuracy: 0.7420\n",
            "Epoch 85/100\n",
            " - 8s - loss: 9.0048e-05 - accuracy: 1.0000 - val_loss: 2.6232 - val_accuracy: 0.7590\n",
            "Epoch 86/100\n",
            " - 8s - loss: 0.0016 - accuracy: 1.0000 - val_loss: 4.7377 - val_accuracy: 0.7520\n",
            "Epoch 87/100\n",
            " - 8s - loss: 0.0065 - accuracy: 0.9990 - val_loss: 5.4348 - val_accuracy: 0.7500\n",
            "Epoch 88/100\n",
            " - 8s - loss: 0.0061 - accuracy: 0.9980 - val_loss: 1.9090 - val_accuracy: 0.7470\n",
            "Epoch 89/100\n",
            " - 8s - loss: 0.0021 - accuracy: 0.9995 - val_loss: 2.5133 - val_accuracy: 0.7570\n",
            "Epoch 90/100\n",
            " - 8s - loss: 0.0011 - accuracy: 0.9995 - val_loss: 3.9716 - val_accuracy: 0.7390\n",
            "Epoch 91/100\n",
            " - 8s - loss: 0.0091 - accuracy: 0.9980 - val_loss: 3.0719 - val_accuracy: 0.7420\n",
            "Epoch 92/100\n",
            " - 8s - loss: 2.9612e-04 - accuracy: 1.0000 - val_loss: 0.4190 - val_accuracy: 0.7520\n",
            "Epoch 93/100\n",
            " - 8s - loss: 0.0167 - accuracy: 0.9955 - val_loss: 2.1563 - val_accuracy: 0.7480\n",
            "Epoch 94/100\n",
            " - 8s - loss: 1.1528e-05 - accuracy: 1.0000 - val_loss: 0.8334 - val_accuracy: 0.7510\n",
            "Epoch 95/100\n",
            " - 8s - loss: 0.0047 - accuracy: 0.9980 - val_loss: 4.4252 - val_accuracy: 0.7500\n",
            "Epoch 96/100\n",
            " - 8s - loss: 0.0062 - accuracy: 0.9970 - val_loss: 3.6305 - val_accuracy: 0.7060\n",
            "Epoch 97/100\n",
            " - 8s - loss: 0.0019 - accuracy: 0.9990 - val_loss: 1.4333 - val_accuracy: 0.7450\n",
            "Epoch 98/100\n",
            " - 8s - loss: 0.0039 - accuracy: 0.9985 - val_loss: 2.2445 - val_accuracy: 0.7430\n",
            "Epoch 99/100\n",
            " - 8s - loss: 0.0025 - accuracy: 0.9985 - val_loss: 4.3198 - val_accuracy: 0.7520\n",
            "Epoch 100/100\n",
            " - 8s - loss: 0.0036 - accuracy: 0.9990 - val_loss: 2.8755 - val_accuracy: 0.7300\n"
          ],
          "name": "stdout"
        }
      ]
    },
    {
      "cell_type": "code",
      "metadata": {
        "id": "MlfzNpAqan5V",
        "colab_type": "code",
        "colab": {
          "resources": {
            "http://localhost:8080/nbextensions/google.colab/files.js": {
              "data": "Ly8gQ29weXJpZ2h0IDIwMTcgR29vZ2xlIExMQwovLwovLyBMaWNlbnNlZCB1bmRlciB0aGUgQXBhY2hlIExpY2Vuc2UsIFZlcnNpb24gMi4wICh0aGUgIkxpY2Vuc2UiKTsKLy8geW91IG1heSBub3QgdXNlIHRoaXMgZmlsZSBleGNlcHQgaW4gY29tcGxpYW5jZSB3aXRoIHRoZSBMaWNlbnNlLgovLyBZb3UgbWF5IG9idGFpbiBhIGNvcHkgb2YgdGhlIExpY2Vuc2UgYXQKLy8KLy8gICAgICBodHRwOi8vd3d3LmFwYWNoZS5vcmcvbGljZW5zZXMvTElDRU5TRS0yLjAKLy8KLy8gVW5sZXNzIHJlcXVpcmVkIGJ5IGFwcGxpY2FibGUgbGF3IG9yIGFncmVlZCB0byBpbiB3cml0aW5nLCBzb2Z0d2FyZQovLyBkaXN0cmlidXRlZCB1bmRlciB0aGUgTGljZW5zZSBpcyBkaXN0cmlidXRlZCBvbiBhbiAiQVMgSVMiIEJBU0lTLAovLyBXSVRIT1VUIFdBUlJBTlRJRVMgT1IgQ09ORElUSU9OUyBPRiBBTlkgS0lORCwgZWl0aGVyIGV4cHJlc3Mgb3IgaW1wbGllZC4KLy8gU2VlIHRoZSBMaWNlbnNlIGZvciB0aGUgc3BlY2lmaWMgbGFuZ3VhZ2UgZ292ZXJuaW5nIHBlcm1pc3Npb25zIGFuZAovLyBsaW1pdGF0aW9ucyB1bmRlciB0aGUgTGljZW5zZS4KCi8qKgogKiBAZmlsZW92ZXJ2aWV3IEhlbHBlcnMgZm9yIGdvb2dsZS5jb2xhYiBQeXRob24gbW9kdWxlLgogKi8KKGZ1bmN0aW9uKHNjb3BlKSB7CmZ1bmN0aW9uIHNwYW4odGV4dCwgc3R5bGVBdHRyaWJ1dGVzID0ge30pIHsKICBjb25zdCBlbGVtZW50ID0gZG9jdW1lbnQuY3JlYXRlRWxlbWVudCgnc3BhbicpOwogIGVsZW1lbnQudGV4dENvbnRlbnQgPSB0ZXh0OwogIGZvciAoY29uc3Qga2V5IG9mIE9iamVjdC5rZXlzKHN0eWxlQXR0cmlidXRlcykpIHsKICAgIGVsZW1lbnQuc3R5bGVba2V5XSA9IHN0eWxlQXR0cmlidXRlc1trZXldOwogIH0KICByZXR1cm4gZWxlbWVudDsKfQoKLy8gTWF4IG51bWJlciBvZiBieXRlcyB3aGljaCB3aWxsIGJlIHVwbG9hZGVkIGF0IGEgdGltZS4KY29uc3QgTUFYX1BBWUxPQURfU0laRSA9IDEwMCAqIDEwMjQ7Ci8vIE1heCBhbW91bnQgb2YgdGltZSB0byBibG9jayB3YWl0aW5nIGZvciB0aGUgdXNlci4KY29uc3QgRklMRV9DSEFOR0VfVElNRU9VVF9NUyA9IDMwICogMTAwMDsKCmZ1bmN0aW9uIF91cGxvYWRGaWxlcyhpbnB1dElkLCBvdXRwdXRJZCkgewogIGNvbnN0IHN0ZXBzID0gdXBsb2FkRmlsZXNTdGVwKGlucHV0SWQsIG91dHB1dElkKTsKICBjb25zdCBvdXRwdXRFbGVtZW50ID0gZG9jdW1lbnQuZ2V0RWxlbWVudEJ5SWQob3V0cHV0SWQpOwogIC8vIENhY2hlIHN0ZXBzIG9uIHRoZSBvdXRwdXRFbGVtZW50IHRvIG1ha2UgaXQgYXZhaWxhYmxlIGZvciB0aGUgbmV4dCBjYWxsCiAgLy8gdG8gdXBsb2FkRmlsZXNDb250aW51ZSBmcm9tIFB5dGhvbi4KICBvdXRwdXRFbGVtZW50LnN0ZXBzID0gc3RlcHM7CgogIHJldHVybiBfdXBsb2FkRmlsZXNDb250aW51ZShvdXRwdXRJZCk7Cn0KCi8vIFRoaXMgaXMgcm91Z2hseSBhbiBhc3luYyBnZW5lcmF0b3IgKG5vdCBzdXBwb3J0ZWQgaW4gdGhlIGJyb3dzZXIgeWV0KSwKLy8gd2hlcmUgdGhlcmUgYXJlIG11bHRpcGxlIGFzeW5jaHJvbm91cyBzdGVwcyBhbmQgdGhlIFB5dGhvbiBzaWRlIGlzIGdvaW5nCi8vIHRvIHBvbGwgZm9yIGNvbXBsZXRpb24gb2YgZWFjaCBzdGVwLgovLyBUaGlzIHVzZXMgYSBQcm9taXNlIHRvIGJsb2NrIHRoZSBweXRob24gc2lkZSBvbiBjb21wbGV0aW9uIG9mIGVhY2ggc3RlcCwKLy8gdGhlbiBwYXNzZXMgdGhlIHJlc3VsdCBvZiB0aGUgcHJldmlvdXMgc3RlcCBhcyB0aGUgaW5wdXQgdG8gdGhlIG5leHQgc3RlcC4KZnVuY3Rpb24gX3VwbG9hZEZpbGVzQ29udGludWUob3V0cHV0SWQpIHsKICBjb25zdCBvdXRwdXRFbGVtZW50ID0gZG9jdW1lbnQuZ2V0RWxlbWVudEJ5SWQob3V0cHV0SWQpOwogIGNvbnN0IHN0ZXBzID0gb3V0cHV0RWxlbWVudC5zdGVwczsKCiAgY29uc3QgbmV4dCA9IHN0ZXBzLm5leHQob3V0cHV0RWxlbWVudC5sYXN0UHJvbWlzZVZhbHVlKTsKICByZXR1cm4gUHJvbWlzZS5yZXNvbHZlKG5leHQudmFsdWUucHJvbWlzZSkudGhlbigodmFsdWUpID0+IHsKICAgIC8vIENhY2hlIHRoZSBsYXN0IHByb21pc2UgdmFsdWUgdG8gbWFrZSBpdCBhdmFpbGFibGUgdG8gdGhlIG5leHQKICAgIC8vIHN0ZXAgb2YgdGhlIGdlbmVyYXRvci4KICAgIG91dHB1dEVsZW1lbnQubGFzdFByb21pc2VWYWx1ZSA9IHZhbHVlOwogICAgcmV0dXJuIG5leHQudmFsdWUucmVzcG9uc2U7CiAgfSk7Cn0KCi8qKgogKiBHZW5lcmF0b3IgZnVuY3Rpb24gd2hpY2ggaXMgY2FsbGVkIGJldHdlZW4gZWFjaCBhc3luYyBzdGVwIG9mIHRoZSB1cGxvYWQKICogcHJvY2Vzcy4KICogQHBhcmFtIHtzdHJpbmd9IGlucHV0SWQgRWxlbWVudCBJRCBvZiB0aGUgaW5wdXQgZmlsZSBwaWNrZXIgZWxlbWVudC4KICogQHBhcmFtIHtzdHJpbmd9IG91dHB1dElkIEVsZW1lbnQgSUQgb2YgdGhlIG91dHB1dCBkaXNwbGF5LgogKiBAcmV0dXJuIHshSXRlcmFibGU8IU9iamVjdD59IEl0ZXJhYmxlIG9mIG5leHQgc3RlcHMuCiAqLwpmdW5jdGlvbiogdXBsb2FkRmlsZXNTdGVwKGlucHV0SWQsIG91dHB1dElkKSB7CiAgY29uc3QgaW5wdXRFbGVtZW50ID0gZG9jdW1lbnQuZ2V0RWxlbWVudEJ5SWQoaW5wdXRJZCk7CiAgaW5wdXRFbGVtZW50LmRpc2FibGVkID0gZmFsc2U7CgogIGNvbnN0IG91dHB1dEVsZW1lbnQgPSBkb2N1bWVudC5nZXRFbGVtZW50QnlJZChvdXRwdXRJZCk7CiAgb3V0cHV0RWxlbWVudC5pbm5lckhUTUwgPSAnJzsKCiAgY29uc3QgcGlja2VkUHJvbWlzZSA9IG5ldyBQcm9taXNlKChyZXNvbHZlKSA9PiB7CiAgICBpbnB1dEVsZW1lbnQuYWRkRXZlbnRMaXN0ZW5lcignY2hhbmdlJywgKGUpID0+IHsKICAgICAgcmVzb2x2ZShlLnRhcmdldC5maWxlcyk7CiAgICB9KTsKICB9KTsKCiAgY29uc3QgY2FuY2VsID0gZG9jdW1lbnQuY3JlYXRlRWxlbWVudCgnYnV0dG9uJyk7CiAgaW5wdXRFbGVtZW50LnBhcmVudEVsZW1lbnQuYXBwZW5kQ2hpbGQoY2FuY2VsKTsKICBjYW5jZWwudGV4dENvbnRlbnQgPSAnQ2FuY2VsIHVwbG9hZCc7CiAgY29uc3QgY2FuY2VsUHJvbWlzZSA9IG5ldyBQcm9taXNlKChyZXNvbHZlKSA9PiB7CiAgICBjYW5jZWwub25jbGljayA9ICgpID0+IHsKICAgICAgcmVzb2x2ZShudWxsKTsKICAgIH07CiAgfSk7CgogIC8vIENhbmNlbCB1cGxvYWQgaWYgdXNlciBoYXNuJ3QgcGlja2VkIGFueXRoaW5nIGluIHRpbWVvdXQuCiAgY29uc3QgdGltZW91dFByb21pc2UgPSBuZXcgUHJvbWlzZSgocmVzb2x2ZSkgPT4gewogICAgc2V0VGltZW91dCgoKSA9PiB7CiAgICAgIHJlc29sdmUobnVsbCk7CiAgICB9LCBGSUxFX0NIQU5HRV9USU1FT1VUX01TKTsKICB9KTsKCiAgLy8gV2FpdCBmb3IgdGhlIHVzZXIgdG8gcGljayB0aGUgZmlsZXMuCiAgY29uc3QgZmlsZXMgPSB5aWVsZCB7CiAgICBwcm9taXNlOiBQcm9taXNlLnJhY2UoW3BpY2tlZFByb21pc2UsIHRpbWVvdXRQcm9taXNlLCBjYW5jZWxQcm9taXNlXSksCiAgICByZXNwb25zZTogewogICAgICBhY3Rpb246ICdzdGFydGluZycsCiAgICB9CiAgfTsKCiAgaWYgKCFmaWxlcykgewogICAgcmV0dXJuIHsKICAgICAgcmVzcG9uc2U6IHsKICAgICAgICBhY3Rpb246ICdjb21wbGV0ZScsCiAgICAgIH0KICAgIH07CiAgfQoKICBjYW5jZWwucmVtb3ZlKCk7CgogIC8vIERpc2FibGUgdGhlIGlucHV0IGVsZW1lbnQgc2luY2UgZnVydGhlciBwaWNrcyBhcmUgbm90IGFsbG93ZWQuCiAgaW5wdXRFbGVtZW50LmRpc2FibGVkID0gdHJ1ZTsKCiAgZm9yIChjb25zdCBmaWxlIG9mIGZpbGVzKSB7CiAgICBjb25zdCBsaSA9IGRvY3VtZW50LmNyZWF0ZUVsZW1lbnQoJ2xpJyk7CiAgICBsaS5hcHBlbmQoc3BhbihmaWxlLm5hbWUsIHtmb250V2VpZ2h0OiAnYm9sZCd9KSk7CiAgICBsaS5hcHBlbmQoc3BhbigKICAgICAgICBgKCR7ZmlsZS50eXBlIHx8ICduL2EnfSkgLSAke2ZpbGUuc2l6ZX0gYnl0ZXMsIGAgKwogICAgICAgIGBsYXN0IG1vZGlmaWVkOiAkewogICAgICAgICAgICBmaWxlLmxhc3RNb2RpZmllZERhdGUgPyBmaWxlLmxhc3RNb2RpZmllZERhdGUudG9Mb2NhbGVEYXRlU3RyaW5nKCkgOgogICAgICAgICAgICAgICAgICAgICAgICAgICAgICAgICAgICAnbi9hJ30gLSBgKSk7CiAgICBjb25zdCBwZXJjZW50ID0gc3BhbignMCUgZG9uZScpOwogICAgbGkuYXBwZW5kQ2hpbGQocGVyY2VudCk7CgogICAgb3V0cHV0RWxlbWVudC5hcHBlbmRDaGlsZChsaSk7CgogICAgY29uc3QgZmlsZURhdGFQcm9taXNlID0gbmV3IFByb21pc2UoKHJlc29sdmUpID0+IHsKICAgICAgY29uc3QgcmVhZGVyID0gbmV3IEZpbGVSZWFkZXIoKTsKICAgICAgcmVhZGVyLm9ubG9hZCA9IChlKSA9PiB7CiAgICAgICAgcmVzb2x2ZShlLnRhcmdldC5yZXN1bHQpOwogICAgICB9OwogICAgICByZWFkZXIucmVhZEFzQXJyYXlCdWZmZXIoZmlsZSk7CiAgICB9KTsKICAgIC8vIFdhaXQgZm9yIHRoZSBkYXRhIHRvIGJlIHJlYWR5LgogICAgbGV0IGZpbGVEYXRhID0geWllbGQgewogICAgICBwcm9taXNlOiBmaWxlRGF0YVByb21pc2UsCiAgICAgIHJlc3BvbnNlOiB7CiAgICAgICAgYWN0aW9uOiAnY29udGludWUnLAogICAgICB9CiAgICB9OwoKICAgIC8vIFVzZSBhIGNodW5rZWQgc2VuZGluZyB0byBhdm9pZCBtZXNzYWdlIHNpemUgbGltaXRzLiBTZWUgYi82MjExNTY2MC4KICAgIGxldCBwb3NpdGlvbiA9IDA7CiAgICB3aGlsZSAocG9zaXRpb24gPCBmaWxlRGF0YS5ieXRlTGVuZ3RoKSB7CiAgICAgIGNvbnN0IGxlbmd0aCA9IE1hdGgubWluKGZpbGVEYXRhLmJ5dGVMZW5ndGggLSBwb3NpdGlvbiwgTUFYX1BBWUxPQURfU0laRSk7CiAgICAgIGNvbnN0IGNodW5rID0gbmV3IFVpbnQ4QXJyYXkoZmlsZURhdGEsIHBvc2l0aW9uLCBsZW5ndGgpOwogICAgICBwb3NpdGlvbiArPSBsZW5ndGg7CgogICAgICBjb25zdCBiYXNlNjQgPSBidG9hKFN0cmluZy5mcm9tQ2hhckNvZGUuYXBwbHkobnVsbCwgY2h1bmspKTsKICAgICAgeWllbGQgewogICAgICAgIHJlc3BvbnNlOiB7CiAgICAgICAgICBhY3Rpb246ICdhcHBlbmQnLAogICAgICAgICAgZmlsZTogZmlsZS5uYW1lLAogICAgICAgICAgZGF0YTogYmFzZTY0LAogICAgICAgIH0sCiAgICAgIH07CiAgICAgIHBlcmNlbnQudGV4dENvbnRlbnQgPQogICAgICAgICAgYCR7TWF0aC5yb3VuZCgocG9zaXRpb24gLyBmaWxlRGF0YS5ieXRlTGVuZ3RoKSAqIDEwMCl9JSBkb25lYDsKICAgIH0KICB9CgogIC8vIEFsbCBkb25lLgogIHlpZWxkIHsKICAgIHJlc3BvbnNlOiB7CiAgICAgIGFjdGlvbjogJ2NvbXBsZXRlJywKICAgIH0KICB9Owp9CgpzY29wZS5nb29nbGUgPSBzY29wZS5nb29nbGUgfHwge307CnNjb3BlLmdvb2dsZS5jb2xhYiA9IHNjb3BlLmdvb2dsZS5jb2xhYiB8fCB7fTsKc2NvcGUuZ29vZ2xlLmNvbGFiLl9maWxlcyA9IHsKICBfdXBsb2FkRmlsZXMsCiAgX3VwbG9hZEZpbGVzQ29udGludWUsCn07Cn0pKHNlbGYpOwo=",
              "ok": true,
              "headers": [
                [
                  "content-type",
                  "application/javascript"
                ]
              ],
              "status": 200,
              "status_text": "OK"
            }
          },
          "base_uri": "https://localhost:8080/",
          "height": 117
        },
        "outputId": "df4d0608-eb19-46ab-8b3d-960716dff1b9"
      },
      "source": [
        "\n",
        "from google.colab import files\n",
        "uploaded=files.upload()\n",
        "\n",
        "for fn in uploaded.keys():\n",
        " \n",
        "  # predicting images\n",
        "  path='/content/' + fn\n",
        "  img=image.load_img(path, target_size=(150, 150))\n",
        "  \n",
        "  x=image.img_to_array(img)\n",
        "  x=np.expand_dims(x, axis=0)\n",
        "  images = np.vstack([x])\n",
        "  \n",
        "  classes = model.predict(images, batch_size=10)\n",
        "  \n",
        "  print(classes[0])\n",
        "  \n",
        "if classes[0]>0:\n",
        "    print(fn + \" is a dog\")\n",
        "else:\n",
        "    print(fn + \" is a cat\")\n",
        "\n",
        " "
      ],
      "execution_count": null,
      "outputs": [
        {
          "output_type": "display_data",
          "data": {
            "text/html": [
              "\n",
              "     <input type=\"file\" id=\"files-40b7ca21-bb10-4901-8c9e-f662566d112b\" name=\"files[]\" multiple disabled />\n",
              "     <output id=\"result-40b7ca21-bb10-4901-8c9e-f662566d112b\">\n",
              "      Upload widget is only available when the cell has been executed in the\n",
              "      current browser session. Please rerun this cell to enable.\n",
              "      </output>\n",
              "      <script src=\"/nbextensions/google.colab/files.js\"></script> "
            ],
            "text/plain": [
              "<IPython.core.display.HTML object>"
            ]
          },
          "metadata": {
            "tags": []
          }
        },
        {
          "output_type": "stream",
          "text": [
            "Saving 51.jpg to 51.jpg\n",
            "[1.]\n",
            "51.jpg is a dog\n"
          ],
          "name": "stdout"
        }
      ]
    },
    {
      "cell_type": "code",
      "metadata": {
        "id": "ZZXfnnOMCMZa",
        "colab_type": "code",
        "colab": {
          "base_uri": "https://localhost:8080/",
          "height": 545
        },
        "outputId": "0c144421-b914-44cf-fb73-c030d37e8821"
      },
      "source": [
        "import matplotlib.pyplot as plt\n",
        "accuracy = history.history['accuracy']\n",
        "val_accuracy = history.history['val_accuracy']\n",
        "loss = history.history['loss']\n",
        "val_loss = history.history['val_loss']\n",
        "\n",
        "epochs = range(len(accuracy))\n",
        "\n",
        "plt.plot(epochs, accuracy, 'bo', label = 'Training Accuracy')\n",
        "plt.plot(epochs, val_accuracy, 'b', label = 'Validation accuracy')\n",
        "plt.title('Training and validation accuracy')\n",
        "plt.figure()\n",
        "\n",
        "plt.plot(epochs, loss, 'bo', label = 'loss')\n",
        "plt.plot(epochs, val_loss, 'b', label = 'Validation loss')\n",
        "plt.title('Training and validation loss')\n",
        "plt.legend()\n",
        "\n",
        "plt.show()"
      ],
      "execution_count": null,
      "outputs": [
        {
          "output_type": "display_data",
          "data": {
            "image/png": "[encoded data removed]",
            "text/plain": [
              "<Figure size 432x288 with 1 Axes>"
            ]
          },
          "metadata": {
            "tags": [],
            "needs_background": "light"
          }
        },
        {
          "output_type": "display_data",
          "data": {
            "image/png": "[encoded data removed]",
            "text/plain": [
              "<Figure size 432x288 with 1 Axes>"
            ]
          },
          "metadata": {
            "tags": [],
            "needs_background": "light"
          }
        }
      ]
    },
    {
      "cell_type": "code",
      "metadata": {
        "id": "WpxEurjScnOR",
        "colab_type": "code",
        "colab": {}
      },
      "source": [
        ""
      ],
      "execution_count": null,
      "outputs": []
    }
  ]
}